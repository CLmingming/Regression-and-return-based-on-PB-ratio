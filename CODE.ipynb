{
 "cells": [
  {
   "cell_type": "markdown",
   "source": [
    "Pre Process"
   ],
   "metadata": {
    "collapsed": false
   },
   "id": "106409eb27d596c7"
  },
  {
   "cell_type": "code",
   "outputs": [],
   "source": [
    "from pandas import *\n",
    "import statsmodels.api as sm\n",
    "import matplotlib.pyplot as plt"
   ],
   "metadata": {
    "collapsed": true,
    "ExecuteTime": {
     "end_time": "2024-03-26T07:53:28.673399200Z",
     "start_time": "2024-03-26T07:53:28.655448300Z"
    }
   },
   "id": "initial_id",
   "execution_count": 33
  },
  {
   "cell_type": "code",
   "outputs": [],
   "source": [
    "data1 = read_excel(\"C:/Users/Charles Lee/OneDrive - CUHK-Shenzhen/data1.xlsx\")\n",
    "data2 = read_csv(\"C:/Users/Charles Lee/OneDrive - CUHK-Shenzhen/data2.csv\")"
   ],
   "metadata": {
    "collapsed": false,
    "ExecuteTime": {
     "end_time": "2024-03-26T07:53:44.726293900Z",
     "start_time": "2024-03-26T07:53:28.677378600Z"
    }
   },
   "id": "83811f66ade66fae",
   "execution_count": 34
  },
  {
   "cell_type": "code",
   "outputs": [],
   "source": [
    "data1['Trading Month'] = to_datetime(data1['Trading Month'])\n",
    "data2 = data2[data2['Code for Statement Type'] == 'A']\n",
    "data2.sort_values(by=[' Stock Code', 'Ending Date of Fiscal Year'], ascending=True, inplace=True)\n",
    "data2['Ending Date of Fiscal Year'] = to_datetime(data2['Ending Date of Fiscal Year'])"
   ],
   "metadata": {
    "collapsed": false,
    "ExecuteTime": {
     "end_time": "2024-03-26T07:53:44.823063300Z",
     "start_time": "2024-03-26T07:53:44.727760Z"
    }
   },
   "id": "6f2f6747a00952a8",
   "execution_count": 35
  },
  {
   "cell_type": "code",
   "outputs": [],
   "source": [
    "def get_statistics_date(trdmnt):\n",
    "    if trdmnt.month in [1, 2, 3]:\n",
    "        return to_datetime(f\"{trdmnt.year - 1}-12-31\")\n",
    "    elif trdmnt.month in [4, 5, 6]:\n",
    "        return to_datetime(f\"{trdmnt.year}-03-31\")\n",
    "    elif trdmnt.month in [7, 8, 9]:\n",
    "        return to_datetime(f\"{trdmnt.year}-06-30\")\n",
    "    elif trdmnt.month in [10, 11, 12]:\n",
    "        return to_datetime(f\"{trdmnt.year}-09-30\")\n",
    "    else:\n",
    "        return NaT\n",
    "data1['Statistics Date'] = data1['Trading Month'].apply(get_statistics_date)"
   ],
   "metadata": {
    "collapsed": false,
    "ExecuteTime": {
     "end_time": "2024-03-26T07:56:21.962369Z",
     "start_time": "2024-03-26T07:53:44.824060700Z"
    }
   },
   "id": "104125c2eff62e31",
   "execution_count": 36
  },
  {
   "cell_type": "code",
   "outputs": [],
   "source": [
    "data1['Statistics Date'] = to_datetime(data1['Statistics Date'])\n",
    "data1 = data1.merge(data2, left_on=['Stock Code', 'Statistics Date'], right_on=[' Stock Code', 'Ending Date of Fiscal Year'], how='left')"
   ],
   "metadata": {
    "collapsed": false,
    "ExecuteTime": {
     "end_time": "2024-03-26T07:56:22.187652600Z",
     "start_time": "2024-03-26T07:56:21.966354100Z"
    }
   },
   "id": "5bc224c91af8c5ee",
   "execution_count": 37
  },
  {
   "cell_type": "code",
   "outputs": [],
   "source": [
    "data1['P/B'] = data1['Monthly Closing Price'] / data1['Net Assets per Share']"
   ],
   "metadata": {
    "collapsed": false,
    "ExecuteTime": {
     "end_time": "2024-03-26T07:56:22.197943900Z",
     "start_time": "2024-03-26T07:56:22.187652600Z"
    }
   },
   "id": "ab24f9aa0d04fd44",
   "execution_count": 38
  },
  {
   "cell_type": "code",
   "outputs": [],
   "source": [
    "data1['year'] = data1['Trading Month'].dt.year\n",
    "data1 = data1[(data1['year'] >= 2010) & (data1['year'] <= 2023)]\n",
    "_5percentile = data1['P/B'].quantile(0.05)\n",
    "_95percentile = data1['P/B'].quantile(0.95)\n",
    "data1 = data1[(data1['P/B'] >= _5percentile) & (data1['P/B'] <= _95percentile)]"
   ],
   "metadata": {
    "collapsed": false,
    "ExecuteTime": {
     "end_time": "2024-03-26T07:56:22.317955300Z",
     "start_time": "2024-03-26T07:56:22.197943900Z"
    }
   },
   "id": "bb2eec05c08b1bc1",
   "execution_count": 39
  },
  {
   "cell_type": "code",
   "outputs": [],
   "source": [
    "data1.to_csv(\"C:/Users/Charles Lee/OneDrive - CUHK-Shenzhen/FIN3080_P2/data1_revised.csv\", index=False)\n",
    "data2.to_csv(\"C:/Users/Charles Lee/OneDrive - CUHK-Shenzhen/FIN3080_P2/data2.revised.csv\", index=False)"
   ],
   "metadata": {
    "collapsed": false,
    "ExecuteTime": {
     "end_time": "2024-03-26T07:56:26.723554800Z",
     "start_time": "2024-03-26T07:56:22.319949700Z"
    }
   },
   "id": "6b6c4477581149b9",
   "execution_count": 40
  },
  {
   "cell_type": "raw",
   "source": [
    "Question 1"
   ],
   "metadata": {
    "collapsed": false
   },
   "id": "248b3352aa2f1a5a"
  },
  {
   "cell_type": "code",
   "outputs": [],
   "source": [
    "data1.drop(columns=['Return on Equity', 'Stock Short Name'], inplace=True)"
   ],
   "metadata": {
    "collapsed": false,
    "ExecuteTime": {
     "end_time": "2024-03-26T07:56:26.753197700Z",
     "start_time": "2024-03-26T07:56:26.724519200Z"
    }
   },
   "id": "3b0398f6bd813f34",
   "execution_count": 41
  },
  {
   "cell_type": "code",
   "outputs": [],
   "source": [
    "data2_clean = data2[[' Stock Code', 'Ending Date of Fiscal Year', 'Return on Equity']]"
   ],
   "metadata": {
    "collapsed": false,
    "ExecuteTime": {
     "end_time": "2024-03-26T07:56:26.766671600Z",
     "start_time": "2024-03-26T07:56:26.749650Z"
    }
   },
   "id": "d7c88a8a77a2000c",
   "execution_count": 42
  },
  {
   "cell_type": "code",
   "outputs": [
    {
     "name": "stderr",
     "output_type": "stream",
     "text": [
      "C:\\Users\\Charles Lee\\AppData\\Local\\Temp\\ipykernel_1988\\3438520889.py:3: SettingWithCopyWarning: \n",
      "A value is trying to be set on a copy of a slice from a DataFrame.\n",
      "Try using .loc[row_indexer,col_indexer] = value instead\n",
      "\n",
      "See the caveats in the documentation: https://pandas.pydata.org/pandas-docs/stable/user_guide/indexing.html#returning-a-view-versus-a-copy\n",
      "  data_2010['Trading Month'] = data_2010['Trading Month'].replace(Timestamp('2010-12-01 00:00:00'), Timestamp('2010-12-31 00:00:00'))\n"
     ]
    }
   ],
   "source": [
    "time = data1[data1['Trading Month'].dt.year == 2010]\n",
    "data_2010 = time[time['Trading Month'].dt.month == 12]\n",
    "data_2010['Trading Month'] = data_2010['Trading Month'].replace(Timestamp('2010-12-01 00:00:00'), Timestamp('2010-12-31 00:00:00'))"
   ],
   "metadata": {
    "collapsed": false,
    "ExecuteTime": {
     "end_time": "2024-03-26T07:56:26.796017100Z",
     "start_time": "2024-03-26T07:56:26.759703700Z"
    }
   },
   "id": "f72362a38160c5a4",
   "execution_count": 43
  },
  {
   "cell_type": "code",
   "outputs": [],
   "source": [
    "data_2010 = data_2010.merge(data2, left_on=['Stock Code', 'Trading Month'], right_on=[' Stock Code', 'Ending Date of Fiscal Year'], how='left')"
   ],
   "metadata": {
    "collapsed": false,
    "ExecuteTime": {
     "end_time": "2024-03-26T07:56:26.834785Z",
     "start_time": "2024-03-26T07:56:26.792036700Z"
    }
   },
   "id": "f225f7eb99fe64d1",
   "execution_count": 44
  },
  {
   "cell_type": "code",
   "outputs": [],
   "source": [
    "data3 = read_csv('C:/Users/Charles Lee/OneDrive - CUHK-Shenzhen/FIN3080_P2/data3.csv')\n",
    "data3['Trading Date'] = to_datetime(data3['Trading Date'])\n",
    "data_2010 = data_2010.merge(data3, left_on=['Stock Code', 'Trading Month'], right_on=['Stock Code', 'Trading Date'], how='left')"
   ],
   "metadata": {
    "collapsed": false,
    "ExecuteTime": {
     "end_time": "2024-03-26T07:56:26.835781700Z",
     "start_time": "2024-03-26T07:56:26.821059700Z"
    }
   },
   "id": "75a95b9479ce9c05",
   "execution_count": 45
  },
  {
   "cell_type": "code",
   "outputs": [
    {
     "data": {
      "text/plain": "      Stock Code Trading Month  Monthly Closing Price  Monthly Return  \\\n0              1    2010-12-31                  15.79       -0.036608   \n1              2    2010-12-31                   8.22        0.011070   \n2              4    2010-12-31                  12.04       -0.063764   \n3              5    2010-12-31                   3.67       -0.046753   \n4              6    2010-12-31                   6.97        0.013081   \n...          ...           ...                    ...             ...   \n1726      601988    2010-12-31                   3.23       -0.012232   \n1727      601989    2010-12-31                  11.79        0.090657   \n1728      601991    2010-12-31                   6.09       -0.077273   \n1729      601998    2010-12-31                   5.25       -0.033149   \n1730      601999    2010-12-31                  10.60       -0.045905   \n\n     Statistics Date   Stock Code_x Ending Date of Fiscal Year_x  \\\n0         2010-09-30            1.0                   2010-09-30   \n1         2010-09-30            2.0                   2010-09-30   \n2         2010-09-30            4.0                   2010-09-30   \n3         2010-09-30            5.0                   2010-09-30   \n4         2010-09-30            6.0                   2010-09-30   \n...              ...            ...                          ...   \n1726      2010-09-30       601988.0                   2010-09-30   \n1727      2010-09-30       601989.0                   2010-09-30   \n1728      2010-09-30       601991.0                   2010-09-30   \n1729      2010-09-30       601998.0                   2010-09-30   \n1730      2010-09-30       601999.0                   2010-09-30   \n\n     Code for Statement Type_x  Net Assets per Share_x       P/B  year  \\\n0                            A                9.223531  1.711926  2010   \n1                            A                4.487111  1.831914  2010   \n2                            A                1.505125  7.999336  2010   \n3                            A                0.738516  4.969425  2010   \n4                            A                2.860425  2.436701  2010   \n...                        ...                     ...       ...   ...   \n1726                         A                2.355607  1.371196  2010   \n1727                         A                3.335659  3.534534  2010   \n1728                         A                3.004893  2.026694  2010   \n1729                         A                3.100966  1.693021  2010   \n1730                         A                2.769001  3.828095  2010   \n\n       Stock Code_y Stock Short Name Ending Date of Fiscal Year_y  \\\n0               1.0             SFZA                   2010-12-31   \n1               2.0              WKA                   2010-12-31   \n2               4.0            ST GN                   2010-12-31   \n3               5.0             SJXY                   2010-12-31   \n4               6.0             SZYA                   2010-12-31   \n...             ...              ...                          ...   \n1726       601988.0             ZGYH                   2010-12-31   \n1727       601989.0             ZGZG                   2010-12-31   \n1728       601991.0             DTFD                   2010-12-31   \n1729       601998.0             ZXYH                   2010-12-31   \n1730       601999.0             CBCM                   2010-12-31   \n\n     Code for Statement Type_y  Return on Equity  Net Assets per Share_y  \\\n0                            A          0.234177                9.525797   \n1                            A          0.176802                4.964544   \n2                            A          0.184460                1.538716   \n3                            A         -0.006426                0.738587   \n4                            A          0.209026                3.362780   \n...                        ...               ...                     ...   \n1726                         A          0.179594                2.422200   \n1727                         A          0.073909                3.471708   \n1728                         A          0.105288                3.112990   \n1729                         A          0.188118                3.190582   \n1730                         A          0.085105                2.877766   \n\n     Trading Date  Volatility  \n0      2010-12-31    0.375077  \n1      2010-12-31    0.360978  \n2      2010-12-31    0.382118  \n3      2010-12-31    0.409691  \n4      2010-12-31    0.502408  \n...           ...         ...  \n1726   2010-12-31    0.201127  \n1727          NaT         NaN  \n1728   2010-12-31    0.285140  \n1729   2010-12-31    0.357737  \n1730   2010-12-31    0.419746  \n\n[1731 rows x 19 columns]",
      "text/html": "<div>\n<style scoped>\n    .dataframe tbody tr th:only-of-type {\n        vertical-align: middle;\n    }\n\n    .dataframe tbody tr th {\n        vertical-align: top;\n    }\n\n    .dataframe thead th {\n        text-align: right;\n    }\n</style>\n<table border=\"1\" class=\"dataframe\">\n  <thead>\n    <tr style=\"text-align: right;\">\n      <th></th>\n      <th>Stock Code</th>\n      <th>Trading Month</th>\n      <th>Monthly Closing Price</th>\n      <th>Monthly Return</th>\n      <th>Statistics Date</th>\n      <th>Stock Code_x</th>\n      <th>Ending Date of Fiscal Year_x</th>\n      <th>Code for Statement Type_x</th>\n      <th>Net Assets per Share_x</th>\n      <th>P/B</th>\n      <th>year</th>\n      <th>Stock Code_y</th>\n      <th>Stock Short Name</th>\n      <th>Ending Date of Fiscal Year_y</th>\n      <th>Code for Statement Type_y</th>\n      <th>Return on Equity</th>\n      <th>Net Assets per Share_y</th>\n      <th>Trading Date</th>\n      <th>Volatility</th>\n    </tr>\n  </thead>\n  <tbody>\n    <tr>\n      <th>0</th>\n      <td>1</td>\n      <td>2010-12-31</td>\n      <td>15.79</td>\n      <td>-0.036608</td>\n      <td>2010-09-30</td>\n      <td>1.0</td>\n      <td>2010-09-30</td>\n      <td>A</td>\n      <td>9.223531</td>\n      <td>1.711926</td>\n      <td>2010</td>\n      <td>1.0</td>\n      <td>SFZA</td>\n      <td>2010-12-31</td>\n      <td>A</td>\n      <td>0.234177</td>\n      <td>9.525797</td>\n      <td>2010-12-31</td>\n      <td>0.375077</td>\n    </tr>\n    <tr>\n      <th>1</th>\n      <td>2</td>\n      <td>2010-12-31</td>\n      <td>8.22</td>\n      <td>0.011070</td>\n      <td>2010-09-30</td>\n      <td>2.0</td>\n      <td>2010-09-30</td>\n      <td>A</td>\n      <td>4.487111</td>\n      <td>1.831914</td>\n      <td>2010</td>\n      <td>2.0</td>\n      <td>WKA</td>\n      <td>2010-12-31</td>\n      <td>A</td>\n      <td>0.176802</td>\n      <td>4.964544</td>\n      <td>2010-12-31</td>\n      <td>0.360978</td>\n    </tr>\n    <tr>\n      <th>2</th>\n      <td>4</td>\n      <td>2010-12-31</td>\n      <td>12.04</td>\n      <td>-0.063764</td>\n      <td>2010-09-30</td>\n      <td>4.0</td>\n      <td>2010-09-30</td>\n      <td>A</td>\n      <td>1.505125</td>\n      <td>7.999336</td>\n      <td>2010</td>\n      <td>4.0</td>\n      <td>ST GN</td>\n      <td>2010-12-31</td>\n      <td>A</td>\n      <td>0.184460</td>\n      <td>1.538716</td>\n      <td>2010-12-31</td>\n      <td>0.382118</td>\n    </tr>\n    <tr>\n      <th>3</th>\n      <td>5</td>\n      <td>2010-12-31</td>\n      <td>3.67</td>\n      <td>-0.046753</td>\n      <td>2010-09-30</td>\n      <td>5.0</td>\n      <td>2010-09-30</td>\n      <td>A</td>\n      <td>0.738516</td>\n      <td>4.969425</td>\n      <td>2010</td>\n      <td>5.0</td>\n      <td>SJXY</td>\n      <td>2010-12-31</td>\n      <td>A</td>\n      <td>-0.006426</td>\n      <td>0.738587</td>\n      <td>2010-12-31</td>\n      <td>0.409691</td>\n    </tr>\n    <tr>\n      <th>4</th>\n      <td>6</td>\n      <td>2010-12-31</td>\n      <td>6.97</td>\n      <td>0.013081</td>\n      <td>2010-09-30</td>\n      <td>6.0</td>\n      <td>2010-09-30</td>\n      <td>A</td>\n      <td>2.860425</td>\n      <td>2.436701</td>\n      <td>2010</td>\n      <td>6.0</td>\n      <td>SZYA</td>\n      <td>2010-12-31</td>\n      <td>A</td>\n      <td>0.209026</td>\n      <td>3.362780</td>\n      <td>2010-12-31</td>\n      <td>0.502408</td>\n    </tr>\n    <tr>\n      <th>...</th>\n      <td>...</td>\n      <td>...</td>\n      <td>...</td>\n      <td>...</td>\n      <td>...</td>\n      <td>...</td>\n      <td>...</td>\n      <td>...</td>\n      <td>...</td>\n      <td>...</td>\n      <td>...</td>\n      <td>...</td>\n      <td>...</td>\n      <td>...</td>\n      <td>...</td>\n      <td>...</td>\n      <td>...</td>\n      <td>...</td>\n      <td>...</td>\n    </tr>\n    <tr>\n      <th>1726</th>\n      <td>601988</td>\n      <td>2010-12-31</td>\n      <td>3.23</td>\n      <td>-0.012232</td>\n      <td>2010-09-30</td>\n      <td>601988.0</td>\n      <td>2010-09-30</td>\n      <td>A</td>\n      <td>2.355607</td>\n      <td>1.371196</td>\n      <td>2010</td>\n      <td>601988.0</td>\n      <td>ZGYH</td>\n      <td>2010-12-31</td>\n      <td>A</td>\n      <td>0.179594</td>\n      <td>2.422200</td>\n      <td>2010-12-31</td>\n      <td>0.201127</td>\n    </tr>\n    <tr>\n      <th>1727</th>\n      <td>601989</td>\n      <td>2010-12-31</td>\n      <td>11.79</td>\n      <td>0.090657</td>\n      <td>2010-09-30</td>\n      <td>601989.0</td>\n      <td>2010-09-30</td>\n      <td>A</td>\n      <td>3.335659</td>\n      <td>3.534534</td>\n      <td>2010</td>\n      <td>601989.0</td>\n      <td>ZGZG</td>\n      <td>2010-12-31</td>\n      <td>A</td>\n      <td>0.073909</td>\n      <td>3.471708</td>\n      <td>NaT</td>\n      <td>NaN</td>\n    </tr>\n    <tr>\n      <th>1728</th>\n      <td>601991</td>\n      <td>2010-12-31</td>\n      <td>6.09</td>\n      <td>-0.077273</td>\n      <td>2010-09-30</td>\n      <td>601991.0</td>\n      <td>2010-09-30</td>\n      <td>A</td>\n      <td>3.004893</td>\n      <td>2.026694</td>\n      <td>2010</td>\n      <td>601991.0</td>\n      <td>DTFD</td>\n      <td>2010-12-31</td>\n      <td>A</td>\n      <td>0.105288</td>\n      <td>3.112990</td>\n      <td>2010-12-31</td>\n      <td>0.285140</td>\n    </tr>\n    <tr>\n      <th>1729</th>\n      <td>601998</td>\n      <td>2010-12-31</td>\n      <td>5.25</td>\n      <td>-0.033149</td>\n      <td>2010-09-30</td>\n      <td>601998.0</td>\n      <td>2010-09-30</td>\n      <td>A</td>\n      <td>3.100966</td>\n      <td>1.693021</td>\n      <td>2010</td>\n      <td>601998.0</td>\n      <td>ZXYH</td>\n      <td>2010-12-31</td>\n      <td>A</td>\n      <td>0.188118</td>\n      <td>3.190582</td>\n      <td>2010-12-31</td>\n      <td>0.357737</td>\n    </tr>\n    <tr>\n      <th>1730</th>\n      <td>601999</td>\n      <td>2010-12-31</td>\n      <td>10.60</td>\n      <td>-0.045905</td>\n      <td>2010-09-30</td>\n      <td>601999.0</td>\n      <td>2010-09-30</td>\n      <td>A</td>\n      <td>2.769001</td>\n      <td>3.828095</td>\n      <td>2010</td>\n      <td>601999.0</td>\n      <td>CBCM</td>\n      <td>2010-12-31</td>\n      <td>A</td>\n      <td>0.085105</td>\n      <td>2.877766</td>\n      <td>2010-12-31</td>\n      <td>0.419746</td>\n    </tr>\n  </tbody>\n</table>\n<p>1731 rows × 19 columns</p>\n</div>"
     },
     "execution_count": 46,
     "metadata": {},
     "output_type": "execute_result"
    }
   ],
   "source": [
    "data_2010"
   ],
   "metadata": {
    "collapsed": false,
    "ExecuteTime": {
     "end_time": "2024-03-26T07:56:26.858411300Z",
     "start_time": "2024-03-26T07:56:26.842790300Z"
    }
   },
   "id": "1bb48593aa47953b",
   "execution_count": 46
  },
  {
   "cell_type": "code",
   "outputs": [
    {
     "name": "stdout",
     "output_type": "stream",
     "text": [
      "Stock Code                        0\n",
      "Trading Month                     0\n",
      "Monthly Closing Price             0\n",
      "Monthly Return                   10\n",
      "Statistics Date                   0\n",
      " Stock Code_x                     0\n",
      "Ending Date of Fiscal Year_x      0\n",
      "Code for Statement Type_x         0\n",
      "Net Assets per Share_x            0\n",
      "P/B                               0\n",
      "year                              0\n",
      " Stock Code_y                     1\n",
      "Stock Short Name                  1\n",
      "Ending Date of Fiscal Year_y      1\n",
      "Code for Statement Type_y         1\n",
      "Return on Equity                  2\n",
      "Net Assets per Share_y            1\n",
      "Trading Date                    342\n",
      "Volatility                      342\n",
      "dtype: int64\n"
     ]
    }
   ],
   "source": [
    "print(data_2010.isnull().sum())  "
   ],
   "metadata": {
    "collapsed": false,
    "ExecuteTime": {
     "end_time": "2024-03-26T07:56:26.895816800Z",
     "start_time": "2024-03-26T07:56:26.847777300Z"
    }
   },
   "id": "d64222b119ef90a",
   "execution_count": 47
  },
  {
   "cell_type": "code",
   "outputs": [
    {
     "name": "stdout",
     "output_type": "stream",
     "text": [
      "                            OLS Regression Results                            \n",
      "==============================================================================\n",
      "Dep. Variable:                    P/B   R-squared:                       0.133\n",
      "Model:                            OLS   Adj. R-squared:                  0.131\n",
      "Method:                 Least Squares   F-statistic:                     105.9\n",
      "Date:                Tue, 26 Mar 2024   Prob (F-statistic):           1.54e-43\n",
      "Time:                        15:56:26   Log-Likelihood:                -2885.7\n",
      "No. Observations:                1388   AIC:                             5777.\n",
      "Df Residuals:                    1385   BIC:                             5793.\n",
      "Df Model:                           2                                         \n",
      "Covariance Type:            nonrobust                                         \n",
      "====================================================================================\n",
      "                       coef    std err          t      P>|t|      [0.025      0.975]\n",
      "------------------------------------------------------------------------------------\n",
      "const                0.1420      0.289      0.492      0.623      -0.424       0.708\n",
      "Return on Equity     1.7530      0.453      3.867      0.000       0.864       2.642\n",
      "Volatility           8.7206      0.629     13.858      0.000       7.486       9.955\n",
      "==============================================================================\n",
      "Omnibus:                      128.844   Durbin-Watson:                   1.785\n",
      "Prob(Omnibus):                  0.000   Jarque-Bera (JB):              190.549\n",
      "Skew:                           0.699   Prob(JB):                     4.20e-42\n",
      "Kurtosis:                       4.157   Cond. No.                         14.6\n",
      "==============================================================================\n",
      "\n",
      "Notes:\n",
      "[1] Standard Errors assume that the covariance matrix of the errors is correctly specified.\n"
     ]
    }
   ],
   "source": [
    "data_2010 = data_2010.dropna()\n",
    "regression_data = data_2010[['P/B', 'Return on Equity', 'Volatility']]\n",
    "X = regression_data[['Return on Equity', 'Volatility']]\n",
    "y = regression_data['P/B']\n",
    "X = sm.add_constant(X)\n",
    "model = sm.OLS(y, X).fit()\n",
    "print(model.summary())"
   ],
   "metadata": {
    "collapsed": false,
    "ExecuteTime": {
     "end_time": "2024-03-26T07:56:26.898243Z",
     "start_time": "2024-03-26T07:56:26.852430900Z"
    }
   },
   "id": "41276ee3109fda7b",
   "execution_count": 48
  },
  {
   "cell_type": "markdown",
   "source": [
    "Question 2"
   ],
   "metadata": {
    "collapsed": false
   },
   "id": "eb4e9c5c6669b911"
  },
  {
   "cell_type": "code",
   "outputs": [],
   "source": [
    "data = read_csv(\"C:/Users/Charles Lee/OneDrive - CUHK-Shenzhen/FIN3080_P2/data1_revised.csv\")\n",
    "data['Trading Month'] = to_datetime(data['Trading Month'])\n",
    "lists = [[] for i in range(1, 11)]\n",
    "data = data[['Stock Code', 'Trading Month', 'Monthly Return', 'P/B']]"
   ],
   "metadata": {
    "collapsed": false,
    "ExecuteTime": {
     "end_time": "2024-03-26T07:56:27.693215300Z",
     "start_time": "2024-03-26T07:56:26.867545500Z"
    }
   },
   "id": "7dfc0f46f161b3ba",
   "execution_count": 49
  },
  {
   "cell_type": "code",
   "outputs": [],
   "source": [
    "data['lagged P/B'] = data.groupby('Stock Code')['P/B'].shift(1)\n",
    "data.dropna(subset='lagged P/B', inplace=True)"
   ],
   "metadata": {
    "collapsed": false,
    "ExecuteTime": {
     "end_time": "2024-03-26T07:56:27.725800500Z",
     "start_time": "2024-03-26T07:56:27.678517300Z"
    }
   },
   "id": "f4b49ace07443f71",
   "execution_count": 50
  },
  {
   "cell_type": "code",
   "outputs": [
    {
     "data": {
      "text/plain": "        Stock Code Trading Month  Monthly Return       P/B  lagged P/B\n1                1    2010-02-01        0.034562  3.405878    3.292096\n2                1    2010-03-01        0.033408  3.519660    3.405878\n3                1    2010-04-01       -0.113793  2.887753    3.519660\n4                1    2010-05-01       -0.148346  2.459366    2.887753\n5                1    2010-06-01        0.000000  2.459366    2.459366\n...            ...           ...             ...       ...         ...\n486070      873665    2023-11-01        0.567663  1.762270    1.124139\n486071      873665    2023-12-01        0.367713  2.410280    1.762270\n486073      873693    2023-12-01       -0.168535  9.425669    7.839598\n486076      873726    2023-11-01        0.337156  6.366081    4.760912\n486077      873726    2023-12-01        0.497084  9.530559    6.366081\n\n[480604 rows x 5 columns]",
      "text/html": "<div>\n<style scoped>\n    .dataframe tbody tr th:only-of-type {\n        vertical-align: middle;\n    }\n\n    .dataframe tbody tr th {\n        vertical-align: top;\n    }\n\n    .dataframe thead th {\n        text-align: right;\n    }\n</style>\n<table border=\"1\" class=\"dataframe\">\n  <thead>\n    <tr style=\"text-align: right;\">\n      <th></th>\n      <th>Stock Code</th>\n      <th>Trading Month</th>\n      <th>Monthly Return</th>\n      <th>P/B</th>\n      <th>lagged P/B</th>\n    </tr>\n  </thead>\n  <tbody>\n    <tr>\n      <th>1</th>\n      <td>1</td>\n      <td>2010-02-01</td>\n      <td>0.034562</td>\n      <td>3.405878</td>\n      <td>3.292096</td>\n    </tr>\n    <tr>\n      <th>2</th>\n      <td>1</td>\n      <td>2010-03-01</td>\n      <td>0.033408</td>\n      <td>3.519660</td>\n      <td>3.405878</td>\n    </tr>\n    <tr>\n      <th>3</th>\n      <td>1</td>\n      <td>2010-04-01</td>\n      <td>-0.113793</td>\n      <td>2.887753</td>\n      <td>3.519660</td>\n    </tr>\n    <tr>\n      <th>4</th>\n      <td>1</td>\n      <td>2010-05-01</td>\n      <td>-0.148346</td>\n      <td>2.459366</td>\n      <td>2.887753</td>\n    </tr>\n    <tr>\n      <th>5</th>\n      <td>1</td>\n      <td>2010-06-01</td>\n      <td>0.000000</td>\n      <td>2.459366</td>\n      <td>2.459366</td>\n    </tr>\n    <tr>\n      <th>...</th>\n      <td>...</td>\n      <td>...</td>\n      <td>...</td>\n      <td>...</td>\n      <td>...</td>\n    </tr>\n    <tr>\n      <th>486070</th>\n      <td>873665</td>\n      <td>2023-11-01</td>\n      <td>0.567663</td>\n      <td>1.762270</td>\n      <td>1.124139</td>\n    </tr>\n    <tr>\n      <th>486071</th>\n      <td>873665</td>\n      <td>2023-12-01</td>\n      <td>0.367713</td>\n      <td>2.410280</td>\n      <td>1.762270</td>\n    </tr>\n    <tr>\n      <th>486073</th>\n      <td>873693</td>\n      <td>2023-12-01</td>\n      <td>-0.168535</td>\n      <td>9.425669</td>\n      <td>7.839598</td>\n    </tr>\n    <tr>\n      <th>486076</th>\n      <td>873726</td>\n      <td>2023-11-01</td>\n      <td>0.337156</td>\n      <td>6.366081</td>\n      <td>4.760912</td>\n    </tr>\n    <tr>\n      <th>486077</th>\n      <td>873726</td>\n      <td>2023-12-01</td>\n      <td>0.497084</td>\n      <td>9.530559</td>\n      <td>6.366081</td>\n    </tr>\n  </tbody>\n</table>\n<p>480604 rows × 5 columns</p>\n</div>"
     },
     "execution_count": 51,
     "metadata": {},
     "output_type": "execute_result"
    }
   ],
   "source": [
    "data"
   ],
   "metadata": {
    "collapsed": false,
    "ExecuteTime": {
     "end_time": "2024-03-26T07:56:27.729131700Z",
     "start_time": "2024-03-26T07:56:27.717416300Z"
    }
   },
   "id": "c12c52e51d79855e",
   "execution_count": 51
  },
  {
   "cell_type": "code",
   "outputs": [
    {
     "data": {
      "text/plain": "        Stock Code Trading Month  Monthly Return       P/B  lagged P/B decile\n1                1    2010-02-01        0.034562  3.405878    3.292096      4\n2                1    2010-03-01        0.033408  3.519660    3.405878      4\n3                1    2010-04-01       -0.113793  2.887753    3.519660      4\n4                1    2010-05-01       -0.148346  2.459366    2.887753      3\n5                1    2010-06-01        0.000000  2.459366    2.459366      3\n...            ...           ...             ...       ...         ...    ...\n486070      873665    2023-11-01        0.567663  1.762270    1.124139      1\n486071      873665    2023-12-01        0.367713  2.410280    1.762270      3\n486073      873693    2023-12-01       -0.168535  9.425669    7.839598     10\n486076      873726    2023-11-01        0.337156  6.366081    4.760912      9\n486077      873726    2023-12-01        0.497084  9.530559    6.366081     10\n\n[480604 rows x 6 columns]",
      "text/html": "<div>\n<style scoped>\n    .dataframe tbody tr th:only-of-type {\n        vertical-align: middle;\n    }\n\n    .dataframe tbody tr th {\n        vertical-align: top;\n    }\n\n    .dataframe thead th {\n        text-align: right;\n    }\n</style>\n<table border=\"1\" class=\"dataframe\">\n  <thead>\n    <tr style=\"text-align: right;\">\n      <th></th>\n      <th>Stock Code</th>\n      <th>Trading Month</th>\n      <th>Monthly Return</th>\n      <th>P/B</th>\n      <th>lagged P/B</th>\n      <th>decile</th>\n    </tr>\n  </thead>\n  <tbody>\n    <tr>\n      <th>1</th>\n      <td>1</td>\n      <td>2010-02-01</td>\n      <td>0.034562</td>\n      <td>3.405878</td>\n      <td>3.292096</td>\n      <td>4</td>\n    </tr>\n    <tr>\n      <th>2</th>\n      <td>1</td>\n      <td>2010-03-01</td>\n      <td>0.033408</td>\n      <td>3.519660</td>\n      <td>3.405878</td>\n      <td>4</td>\n    </tr>\n    <tr>\n      <th>3</th>\n      <td>1</td>\n      <td>2010-04-01</td>\n      <td>-0.113793</td>\n      <td>2.887753</td>\n      <td>3.519660</td>\n      <td>4</td>\n    </tr>\n    <tr>\n      <th>4</th>\n      <td>1</td>\n      <td>2010-05-01</td>\n      <td>-0.148346</td>\n      <td>2.459366</td>\n      <td>2.887753</td>\n      <td>3</td>\n    </tr>\n    <tr>\n      <th>5</th>\n      <td>1</td>\n      <td>2010-06-01</td>\n      <td>0.000000</td>\n      <td>2.459366</td>\n      <td>2.459366</td>\n      <td>3</td>\n    </tr>\n    <tr>\n      <th>...</th>\n      <td>...</td>\n      <td>...</td>\n      <td>...</td>\n      <td>...</td>\n      <td>...</td>\n      <td>...</td>\n    </tr>\n    <tr>\n      <th>486070</th>\n      <td>873665</td>\n      <td>2023-11-01</td>\n      <td>0.567663</td>\n      <td>1.762270</td>\n      <td>1.124139</td>\n      <td>1</td>\n    </tr>\n    <tr>\n      <th>486071</th>\n      <td>873665</td>\n      <td>2023-12-01</td>\n      <td>0.367713</td>\n      <td>2.410280</td>\n      <td>1.762270</td>\n      <td>3</td>\n    </tr>\n    <tr>\n      <th>486073</th>\n      <td>873693</td>\n      <td>2023-12-01</td>\n      <td>-0.168535</td>\n      <td>9.425669</td>\n      <td>7.839598</td>\n      <td>10</td>\n    </tr>\n    <tr>\n      <th>486076</th>\n      <td>873726</td>\n      <td>2023-11-01</td>\n      <td>0.337156</td>\n      <td>6.366081</td>\n      <td>4.760912</td>\n      <td>9</td>\n    </tr>\n    <tr>\n      <th>486077</th>\n      <td>873726</td>\n      <td>2023-12-01</td>\n      <td>0.497084</td>\n      <td>9.530559</td>\n      <td>6.366081</td>\n      <td>10</td>\n    </tr>\n  </tbody>\n</table>\n<p>480604 rows × 6 columns</p>\n</div>"
     },
     "execution_count": 52,
     "metadata": {},
     "output_type": "execute_result"
    }
   ],
   "source": [
    "grouped_data = data.groupby('Trading Month')\n",
    "data['decile'] = grouped_data['lagged P/B'].transform(lambda x: qcut(x, 10, labels=[1,2,3,4,5,6,7,8,9,10]))\n",
    "data"
   ],
   "metadata": {
    "collapsed": false,
    "ExecuteTime": {
     "end_time": "2024-03-26T07:56:28.090695400Z",
     "start_time": "2024-03-26T07:56:27.729131700Z"
    }
   },
   "id": "345a2568d1c211fc",
   "execution_count": 52
  },
  {
   "cell_type": "code",
   "outputs": [],
   "source": [
    "def append_into_lists(month):\n",
    "    for i in range(1, 11):\n",
    "        data_using = data[data['Trading Month'] == month]       \n",
    "        num = data_using[data_using['decile'] == i].shape[0]\n",
    "        sum_of_return = data_using[data_using['decile'] == i]['Monthly Return'].sum()\n",
    "        lists[i - 1].append(sum_of_return / num)\n",
    "for month, group in grouped_data:\n",
    "    append_into_lists(month)"
   ],
   "metadata": {
    "collapsed": false,
    "ExecuteTime": {
     "end_time": "2024-03-26T07:56:33.408450Z",
     "start_time": "2024-03-26T07:56:28.092690300Z"
    }
   },
   "id": "c00238ccfd52a40d",
   "execution_count": 53
  },
  {
   "cell_type": "code",
   "outputs": [
    {
     "name": "stdout",
     "output_type": "stream",
     "text": [
      "10\n"
     ]
    }
   ],
   "source": [
    "print(len(lists))"
   ],
   "metadata": {
    "collapsed": false,
    "ExecuteTime": {
     "end_time": "2024-03-26T07:56:33.422507500Z",
     "start_time": "2024-03-26T07:56:33.409439100Z"
    }
   },
   "id": "34d10b4884b624e5",
   "execution_count": 54
  },
  {
   "cell_type": "code",
   "outputs": [
    {
     "name": "stdout",
     "output_type": "stream",
     "text": [
      "[0.01808963411686887, 0.014043542424978914, 0.013443959573282385, 0.012766481979191675, 0.011776720581388745, 0.011893932308491327, 0.010429319657233786, 0.008368541828451969, 0.0054587918451928785, -0.013849787160399493]\n"
     ]
    }
   ],
   "source": [
    "aver_list =[]\n",
    "for i in lists:\n",
    "    aver_list.append(sum(i) / len(i))\n",
    "print(aver_list)"
   ],
   "metadata": {
    "collapsed": false,
    "ExecuteTime": {
     "end_time": "2024-03-26T07:56:33.424500100Z",
     "start_time": "2024-03-26T07:56:33.415535100Z"
    }
   },
   "id": "21e4d41bb49b6bbd",
   "execution_count": 55
  },
  {
   "cell_type": "code",
   "outputs": [
    {
     "data": {
      "text/plain": "<Figure size 800x600 with 1 Axes>",
      "image/png": "[encoded data removed]"
     },
     "metadata": {},
     "output_type": "display_data"
    }
   ],
   "source": [
    "portfolio = list(range(1,11))\n",
    "\n",
    "plt.figure(figsize=(8, 6))\n",
    "plt.bar(portfolio, aver_list)\n",
    "plt.grid(color='gray', linestyle='--', linewidth=0.5)\n",
    "plt.legend(['Average Returns'], loc='upper right')\n",
    "plt.xlabel('Portfolio Number', fontsize=12)\n",
    "plt.ylabel('Average Return', fontsize=12)\n",
    "plt.title('Average Returns for Ten Portfolios', fontsize=14)\n",
    "plt.xticks(range(1, 11))  \n",
    "plt.yticks(fontsize=10)\n",
    "plt.show()"
   ],
   "metadata": {
    "collapsed": false,
    "ExecuteTime": {
     "end_time": "2024-03-26T07:56:33.628258Z",
     "start_time": "2024-03-26T07:56:33.425494Z"
    }
   },
   "id": "80daa123e454bc87",
   "execution_count": 56
  }
 ],
 "metadata": {
  "kernelspec": {
   "display_name": "Python 3",
   "language": "python",
   "name": "python3"
  },
  "language_info": {
   "codemirror_mode": {
    "name": "ipython",
    "version": 2
   },
   "file_extension": ".py",
   "mimetype": "text/x-python",
   "name": "python",
   "nbconvert_exporter": "python",
   "pygments_lexer": "ipython2",
   "version": "2.7.6"
  }
 },
 "nbformat": 4,
 "nbformat_minor": 5
}
